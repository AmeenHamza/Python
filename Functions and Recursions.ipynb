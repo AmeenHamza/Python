{
 "cells": [
  {
   "cell_type": "markdown",
   "id": "9daa93aa",
   "metadata": {},
   "source": [
    "# Functions and Recursions"
   ]
  },
  {
   "cell_type": "code",
   "execution_count": 5,
   "id": "57b7e541",
   "metadata": {},
   "outputs": [],
   "source": [
    "# Agar ye method multiple times karna ho to bar bar code likhne parega?\n",
    "# Islye Function use hota h"
   ]
  },
  {
   "cell_type": "code",
   "execution_count": 4,
   "id": "b16f8c7f",
   "metadata": {},
   "outputs": [
    {
     "name": "stdout",
     "output_type": "stream",
     "text": [
      "37.166666666666664 20.333333333333332\n"
     ]
    }
   ],
   "source": [
    "def percent(marks):\n",
    "    p = ((marks[0]+marks[1]+marks[2]+marks[3]+marks[4]+marks[5])/600)*100\n",
    "    return p\n",
    "\n",
    "marks1 = [23,13,45,23,53,66]\n",
    "percentage1 = percent(marks1)\n",
    "\n",
    "marks2 = [2,3,5,67,12,33]\n",
    "percentage2 = percent(marks2)\n",
    "print(percentage1,percentage2)"
   ]
  },
  {
   "cell_type": "code",
   "execution_count": 6,
   "id": "fd995036",
   "metadata": {},
   "outputs": [
    {
     "name": "stdout",
     "output_type": "stream",
     "text": [
      "4.833333333333333\n"
     ]
    }
   ],
   "source": [
    "marks3 = [5,3,2,4,6,9]\n",
    "per3 = percent(marks3)\n",
    "print(per3)\n"
   ]
  },
  {
   "cell_type": "code",
   "execution_count": 11,
   "id": "4473e654",
   "metadata": {},
   "outputs": [
    {
     "name": "stdout",
     "output_type": "stream",
     "text": [
      "Good day ! Ameen\n"
     ]
    }
   ],
   "source": [
    "# Second function\n",
    "def sayhy(name):\n",
    "    print(\"Good day !\",name)\n",
    "\n",
    "sayhy(\"Ameen\")\n"
   ]
  },
  {
   "cell_type": "code",
   "execution_count": 12,
   "id": "758f7dc5",
   "metadata": {},
   "outputs": [
    {
     "name": "stdout",
     "output_type": "stream",
     "text": [
      "Good day ! Abdullah\n"
     ]
    }
   ],
   "source": [
    "# I don't understand this method\n",
    "sayhy(\"Abdullah\")"
   ]
  },
  {
   "cell_type": "code",
   "execution_count": 8,
   "id": "7cb1ae42",
   "metadata": {},
   "outputs": [
    {
     "name": "stdout",
     "output_type": "stream",
     "text": [
      "70\n"
     ]
    }
   ],
   "source": [
    "# Another example\n",
    "def mysum(num1 , num2):\n",
    "    return num1 + num2\n",
    "s = mysum(34,36)\n",
    "print(s)"
   ]
  },
  {
   "cell_type": "code",
   "execution_count": 13,
   "id": "7a45015c",
   "metadata": {},
   "outputs": [
    {
     "name": "stdout",
     "output_type": "stream",
     "text": [
      "26.0\n"
     ]
    }
   ],
   "source": [
    "def avg(num1 , num2):\n",
    "    return (num1+num2)/2\n",
    "\n",
    "a = avg(16,36)\n",
    "print(a)"
   ]
  },
  {
   "cell_type": "code",
   "execution_count": 16,
   "id": "a74fb767",
   "metadata": {},
   "outputs": [
    {
     "name": "stdout",
     "output_type": "stream",
     "text": [
      "Good day!  Ameen\n",
      "Good day!  Default h\n"
     ]
    }
   ],
   "source": [
    "# Default case  \n",
    "# Default parameter value\n",
    "def greet(name=\"Default h\"):\n",
    "    print(\"Good day! \",name)\n",
    "    \n",
    "greet(\"Ameen\")\n",
    "greet()"
   ]
  },
  {
   "cell_type": "markdown",
   "id": "9e814881",
   "metadata": {},
   "source": [
    "# RECURSION"
   ]
  },
  {
   "cell_type": "code",
   "execution_count": 17,
   "id": "a27aa43f",
   "metadata": {},
   "outputs": [
    {
     "name": "stdout",
     "output_type": "stream",
     "text": [
      "720\n"
     ]
    }
   ],
   "source": [
    "def factorial(n):\n",
    "    fact = 1\n",
    "    for i in range(n):\n",
    "        fact = fact * (i+1)\n",
    "    return fact    \n",
    "\n",
    "print(factorial(6))"
   ]
  },
  {
   "cell_type": "code",
   "execution_count": 18,
   "id": "3ec356c6",
   "metadata": {},
   "outputs": [
    {
     "name": "stdout",
     "output_type": "stream",
     "text": [
      "120\n"
     ]
    }
   ],
   "source": [
    "def factorial_recursion(n):\n",
    "    if n==1 or n==0:\n",
    "        return 1\n",
    "    return n*factorial_recursion(n-1)\n",
    "    \n",
    "a= factorial_recursion(5)\n",
    "print(a)"
   ]
  },
  {
   "cell_type": "code",
   "execution_count": 3,
   "id": "4bf788ef",
   "metadata": {},
   "outputs": [
    {
     "name": "stdout",
     "output_type": "stream",
     "text": [
      "13\n"
     ]
    }
   ],
   "source": [
    "# Another example of recursion is that:\n",
    "def fabonacci(n):\n",
    "    if n==1 or n==2:\n",
    "        return n-1\n",
    "    else:\n",
    "        return fabonacci(n-1)+fabonacci(n-2)\n",
    "q = fabonacci(8)\n",
    "print(q)\n"
   ]
  },
  {
   "cell_type": "code",
   "execution_count": null,
   "id": "b7f20c78",
   "metadata": {},
   "outputs": [],
   "source": [
    "# The recursion and function of python is same as java no thing can change \n",
    "# You can learn one thing another almost done"
   ]
  }
 ],
 "metadata": {
  "kernelspec": {
   "display_name": "Python 3 (ipykernel)",
   "language": "python",
   "name": "python3"
  },
  "language_info": {
   "codemirror_mode": {
    "name": "ipython",
    "version": 3
   },
   "file_extension": ".py",
   "mimetype": "text/x-python",
   "name": "python",
   "nbconvert_exporter": "python",
   "pygments_lexer": "ipython3",
   "version": "3.9.12"
  }
 },
 "nbformat": 4,
 "nbformat_minor": 5
}
