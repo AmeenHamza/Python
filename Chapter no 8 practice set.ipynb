{
 "cells": [
  {
   "cell_type": "code",
   "execution_count": 1,
   "id": "d570a496",
   "metadata": {},
   "outputs": [
    {
     "name": "stdout",
     "output_type": "stream",
     "text": [
      "9\n"
     ]
    }
   ],
   "source": [
    "# Question no 1\n",
    "def greatest(num1,num2,num3):\n",
    "    great = None\n",
    "    if(num1>num2):\n",
    "        great = num1\n",
    "    else:\n",
    "        great  = num2\n",
    "    if(num2>num3):\n",
    "        great = num2\n",
    "    else:\n",
    "        great = num3\n",
    "    return great\n",
    "\n",
    "a= greatest(5,7,9)\n",
    "print(a)\n",
    "\n"
   ]
  },
  {
   "cell_type": "code",
   "execution_count": 7,
   "id": "609a0425",
   "metadata": {},
   "outputs": [
    {
     "name": "stdout",
     "output_type": "stream",
     "text": [
      "Please enter a temperature in celcius :0\n",
      "The temperature in fahrenhiet is 32.0\n"
     ]
    }
   ],
   "source": [
    "# Question no 2\n",
    "def conversion(celcius):\n",
    "    return (celcius * (9/5)) + 32 \n",
    "\n",
    "cel = int(input(\"Please enter a temperature in celcius :\"))\n",
    "a = conversion(cel)\n",
    "print(\"The temperature in fahrenhiet is \" + str(a))"
   ]
  },
  {
   "cell_type": "code",
   "execution_count": 1,
   "id": "231b8273",
   "metadata": {},
   "outputs": [
    {
     "name": "stdout",
     "output_type": "stream",
     "text": [
      "how kese ho bolo "
     ]
    }
   ],
   "source": [
    "# Question no 3\n",
    "print(\"how\",end =\" \")\n",
    "print(\"kese\",end =\" \")\n",
    "print(\"ho\",end =\" \")\n",
    "print(\"bolo\",end =\" \")"
   ]
  },
  {
   "cell_type": "code",
   "execution_count": 11,
   "id": "4656cf93",
   "metadata": {},
   "outputs": [
    {
     "name": "stdout",
     "output_type": "stream",
     "text": [
      "6\n"
     ]
    }
   ],
   "source": [
    "# Question no 4\n",
    "# What is the sum of first n natural numbers \n",
    "# The sum of first n natural numbers is the number which user enter\n",
    "# For example user enter 24 the number starts from 1 to 24 and the sum is of all numbers which can exist between 1 to 24\n",
    "def sam(n):\n",
    "    if(n==1):\n",
    "        return 1\n",
    "    return n+sam(n-1)\n",
    "\n",
    "a = sam(3) # When i enter number 3 it works (1+2+3) = 6 ,because number starts with 1\n",
    "print(a)"
   ]
  },
  {
   "cell_type": "code",
   "execution_count": 17,
   "id": "b30655a4",
   "metadata": {},
   "outputs": [
    {
     "name": "stdout",
     "output_type": "stream",
     "text": [
      "***\n",
      "**\n",
      "*\n"
     ]
    }
   ],
   "source": [
    "# Question no 5\n",
    "# Write a python program to print first n lines of the following pattern\n",
    "n = 3\n",
    "for i in range(n):\n",
    "    print(\"*\"* (n-i)) # it prints * n-i times\n",
    "    \n"
   ]
  },
  {
   "cell_type": "code",
   "execution_count": 20,
   "id": "272a6002",
   "metadata": {},
   "outputs": [
    {
     "name": "stdout",
     "output_type": "stream",
     "text": [
      "Please enter a lenght in inches :1\n",
      "The lenght in centimeter is :2.54 cm\n"
     ]
    }
   ],
   "source": [
    "# Question no 6\n",
    "def conversion(cms):\n",
    "    return cms*2.54 \n",
    "\n",
    "inches = int(input(\"Please enter a lenght in inches :\"))\n",
    "a = conversion(inches)\n",
    "print(\"The lenght in centimeter is :\" + str(a)+\" cm\")"
   ]
  },
  {
   "cell_type": "code",
   "execution_count": 22,
   "id": "45cfb048",
   "metadata": {},
   "outputs": [
    {
     "name": "stdout",
     "output_type": "stream",
     "text": [
      "How a you\n"
     ]
    }
   ],
   "source": [
    "# Question no 7\n",
    "# Strip function is eliminate all the extra spaces in string\n",
    "def rmv(string,word):\n",
    "    lst = string.replace(word,\"a\")\n",
    "    return lst.strip()\n",
    "\n",
    "st = \"  How are you  \"\n",
    "n = rmv(st,\"are\")\n",
    "print(n)"
   ]
  },
  {
   "cell_type": "code",
   "execution_count": null,
   "id": "a30d1206",
   "metadata": {},
   "outputs": [],
   "source": [
    "# Random function computer k sath kaam karta h jisko\\i ham limit set karte h is no se os no tk kabhi bhi koi sa bhi number\n",
    "#generate kardo\n",
    " \n",
    "    remaining ....."
   ]
  }
 ],
 "metadata": {
  "kernelspec": {
   "display_name": "Python 3 (ipykernel)",
   "language": "python",
   "name": "python3"
  },
  "language_info": {
   "codemirror_mode": {
    "name": "ipython",
    "version": 3
   },
   "file_extension": ".py",
   "mimetype": "text/x-python",
   "name": "python",
   "nbconvert_exporter": "python",
   "pygments_lexer": "ipython3",
   "version": "3.9.12"
  }
 },
 "nbformat": 4,
 "nbformat_minor": 5
}
