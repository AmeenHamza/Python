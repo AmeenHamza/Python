{
 "cells": [
  {
   "cell_type": "markdown",
   "id": "0f235a58",
   "metadata": {},
   "source": [
    "Q no 1 :\n",
    "\n",
    "Write a program to read the text from the given file poem.txt and check the wether the twinkle is present or not in this \n",
    "file    "
   ]
  },
  {
   "cell_type": "code",
   "execution_count": 1,
   "id": "6385b5bb",
   "metadata": {},
   "outputs": [
    {
     "name": "stdout",
     "output_type": "stream",
     "text": [
      "The twinkle is present\n"
     ]
    }
   ],
   "source": [
    "f = open(\"poem.txt\")\n",
    "t = f.read()\n",
    "if \"twinkle\" in t:\n",
    "    print(\"The twinkle is present\")\n",
    "else:\n",
    "    print(\"The twinkle is not present\")\n",
    "f.close()    "
   ]
  },
  {
   "cell_type": "markdown",
   "id": "ec3ed9a0",
   "metadata": {},
   "source": [
    "Q no 2 :\n",
    "    \n",
    "A game function which returns a integer value of score and read the score from high score file    "
   ]
  },
  {
   "cell_type": "code",
   "execution_count": 6,
   "id": "7c8c929c",
   "metadata": {},
   "outputs": [],
   "source": [
    "def game():\n",
    "    return 240\n",
    "score = game()\n",
    "with open(\"hiscore.txt\") as f:\n",
    "    hiscore = int(f.read())    \n",
    "\n",
    "if hiscore<score:\n",
    "    with open(\"hiscore.txt\",\"w\") as f:\n",
    "        f.write(str(score))"
   ]
  },
  {
   "cell_type": "markdown",
   "id": "10d2859d",
   "metadata": {},
   "source": [
    "Q no 3:\n",
    "    \n",
    "Write a program to print the multiplication table of 2 to 20 and show in file    "
   ]
  },
  {
   "cell_type": "code",
   "execution_count": 13,
   "id": "8d18104f",
   "metadata": {},
   "outputs": [],
   "source": [
    "for i in range(2,21):\n",
    "    with open(f\"Tables/Multiplication table of {i}.txt\",\"w\") as f:\n",
    "        for j in range(1,11):\n",
    "            f.write(f\"{i} x {j} = {i*j}\")\n",
    "            if j!=10:\n",
    "                f.write(\"\\n\")"
   ]
  },
  {
   "cell_type": "code",
   "execution_count": null,
   "id": "f102defb",
   "metadata": {},
   "outputs": [],
   "source": []
  }
 ],
 "metadata": {
  "kernelspec": {
   "display_name": "Python 3 (ipykernel)",
   "language": "python",
   "name": "python3"
  },
  "language_info": {
   "codemirror_mode": {
    "name": "ipython",
    "version": 3
   },
   "file_extension": ".py",
   "mimetype": "text/x-python",
   "name": "python",
   "nbconvert_exporter": "python",
   "pygments_lexer": "ipython3",
   "version": "3.9.12"
  }
 },
 "nbformat": 4,
 "nbformat_minor": 5
}
