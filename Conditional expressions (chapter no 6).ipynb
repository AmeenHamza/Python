{
 "cells": [
  {
   "cell_type": "code",
   "execution_count": 1,
   "id": "88d26d13",
   "metadata": {},
   "outputs": [],
   "source": [
    "# In python the expressions for the else if is (elif) but in java the expressions is (else if) elif is similar to the else if \n",
    "# and the other conditions is same\n",
    "# In the last of if else condition (:) "
   ]
  },
  {
   "cell_type": "code",
   "execution_count": 8,
   "id": "b4da5045",
   "metadata": {},
   "outputs": [
    {
     "name": "stdout",
     "output_type": "stream",
     "text": [
      "Please enter a number to check the number is even or odd :37\n",
      "Chalo next time\n"
     ]
    }
   ],
   "source": [
    "a = int(input(\"Please enter a number to check the number is even or odd :\"))\n",
    "if(a<36):\n",
    "    print(\"The number is even \")\n",
    "elif(a<=19):\n",
    "    print(\"The number is odd\")\n",
    "else:\n",
    "    print(\"Chalo next time\")"
   ]
  },
  {
   "cell_type": "code",
   "execution_count": 3,
   "id": "399e0088",
   "metadata": {},
   "outputs": [
    {
     "name": "stdout",
     "output_type": "stream",
     "text": [
      "Please enter your age :12\n",
      "Abhi aap ko time lagega\n"
     ]
    }
   ],
   "source": [
    "# Quick quiz :1\n",
    "age = int(input(\"Please enter your age :\"))\n",
    "if age>=18: #Aese bhi likhsakte h\n",
    "    print(\"You become an adult\")\n",
    "else:\n",
    "    print(\"Abhi aap ko time lagega\")"
   ]
  },
  {
   "cell_type": "markdown",
   "id": "6280ac4f",
   "metadata": {},
   "source": [
    "# Relatinal operators\n"
   ]
  },
  {
   "cell_type": "code",
   "execution_count": 4,
   "id": "c9a152a9",
   "metadata": {},
   "outputs": [],
   "source": [
    "# (==)\n",
    "# (>=)\n",
    "# (<=)"
   ]
  },
  {
   "cell_type": "markdown",
   "id": "c7ae5cda",
   "metadata": {},
   "source": [
    "# Logical operators"
   ]
  },
  {
   "cell_type": "code",
   "execution_count": 6,
   "id": "6a54b72a",
   "metadata": {},
   "outputs": [
    {
     "ename": "SyntaxError",
     "evalue": "invalid syntax (1623881755.py, line 1)",
     "output_type": "error",
     "traceback": [
      "\u001b[1;36m  Input \u001b[1;32mIn [6]\u001b[1;36m\u001b[0m\n\u001b[1;33m    and  # (both are true)\u001b[0m\n\u001b[1;37m    ^\u001b[0m\n\u001b[1;31mSyntaxError\u001b[0m\u001b[1;31m:\u001b[0m invalid syntax\n"
     ]
    }
   ],
   "source": [
    "and  # (both are true)\n",
    "or  #(one are true)\n",
    "not  #(for anything not)"
   ]
  },
  {
   "cell_type": "markdown",
   "id": "0ab55df2",
   "metadata": {},
   "source": [
    "# Is and In"
   ]
  },
  {
   "cell_type": "code",
   "execution_count": 14,
   "id": "44800c8a",
   "metadata": {},
   "outputs": [
    {
     "name": "stdout",
     "output_type": "stream",
     "text": [
      "No\n"
     ]
    }
   ],
   "source": [
    "a = 23\n",
    "if(a is float):\n",
    "    print(\"Is ye kaam karta h\")\n",
    "else:\n",
    "    print(\"No\")"
   ]
  },
  {
   "cell_type": "code",
   "execution_count": 15,
   "id": "d0341729",
   "metadata": {},
   "outputs": [
    {
     "name": "stdout",
     "output_type": "stream",
     "text": [
      "Is ye kaam karta h\n"
     ]
    }
   ],
   "source": [
    "a = None\n",
    "if(a is None):\n",
    "    print(\"Is ye kaam karta h\")\n",
    "else:\n",
    "    print(\"No\")"
   ]
  },
  {
   "cell_type": "code",
   "execution_count": 5,
   "id": "a531b0e1",
   "metadata": {},
   "outputs": [
    {
     "name": "stdout",
     "output_type": "stream",
     "text": [
      "True\n"
     ]
    }
   ],
   "source": [
    "# In function\n",
    "a = [2,34,76,8]\n",
    "print(34 in a)"
   ]
  },
  {
   "cell_type": "code",
   "execution_count": 6,
   "id": "1f18b54e",
   "metadata": {},
   "outputs": [
    {
     "name": "stdout",
     "output_type": "stream",
     "text": [
      "False\n"
     ]
    }
   ],
   "source": [
    "# This is in function\n",
    "print(35 in a)"
   ]
  },
  {
   "cell_type": "code",
   "execution_count": null,
   "id": "de8d6631",
   "metadata": {},
   "outputs": [],
   "source": []
  }
 ],
 "metadata": {
  "kernelspec": {
   "display_name": "Python 3 (ipykernel)",
   "language": "python",
   "name": "python3"
  },
  "language_info": {
   "codemirror_mode": {
    "name": "ipython",
    "version": 3
   },
   "file_extension": ".py",
   "mimetype": "text/x-python",
   "name": "python",
   "nbconvert_exporter": "python",
   "pygments_lexer": "ipython3",
   "version": "3.9.12"
  }
 },
 "nbformat": 4,
 "nbformat_minor": 5
}
