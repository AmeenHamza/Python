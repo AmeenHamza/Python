{
 "cells": [
  {
   "cell_type": "code",
   "execution_count": 3,
   "id": "856fd51f",
   "metadata": {},
   "outputs": [
    {
     "name": "stdout",
     "output_type": "stream",
     "text": [
      "Please enter your name :45\n",
      "<class 'int'>\n"
     ]
    }
   ],
   "source": [
    "a = input(\"Please enter your name :\")\n",
    "a = int(a) #convert a into integer (if possible)\n",
    "print(type(a))"
   ]
  },
  {
   "cell_type": "markdown",
   "id": "6d5690ad",
   "metadata": {},
   "source": [
    "# Practice Set"
   ]
  },
  {
   "cell_type": "code",
   "execution_count": 8,
   "id": "01551328",
   "metadata": {},
   "outputs": [
    {
     "name": "stdout",
     "output_type": "stream",
     "text": [
      "The sum of a and b is 473\n"
     ]
    }
   ],
   "source": [
    "a =458\n",
    "b = 15\n",
    "print(\"The sum of a and b is\" ,a+b)"
   ]
  },
  {
   "cell_type": "code",
   "execution_count": 11,
   "id": "f543fe75",
   "metadata": {},
   "outputs": [
    {
     "name": "stdout",
     "output_type": "stream",
     "text": [
      "The remainder after divided a by b is 8\n"
     ]
    }
   ],
   "source": [
    "print(\"The remainder after divided a by b is\",a%b)"
   ]
  },
  {
   "cell_type": "code",
   "execution_count": 15,
   "id": "5c6bfb43",
   "metadata": {},
   "outputs": [
    {
     "name": "stdout",
     "output_type": "stream",
     "text": [
      "Enter a no here 76\n",
      "<class 'int'>\n"
     ]
    }
   ],
   "source": [
    "a= input(\"Enter a no here \")\n",
    "a= int(a)\n",
    "print(type(a))"
   ]
  },
  {
   "cell_type": "code",
   "execution_count": 17,
   "id": "eeba0e6b",
   "metadata": {},
   "outputs": [
    {
     "name": "stdout",
     "output_type": "stream",
     "text": [
      "Enter first number :45\n",
      "Enter your second number :44\n",
      "44.5\n"
     ]
    }
   ],
   "source": [
    "a= input(\"Enter first number :\")\n",
    "a = int(a)\n",
    "b = input(\"Enter your second number :\")\n",
    "b = int(b)\n",
    "print((a+b)/2)"
   ]
  },
  {
   "cell_type": "code",
   "execution_count": 18,
   "id": "8e6d8dc9",
   "metadata": {},
   "outputs": [
    {
     "name": "stdout",
     "output_type": "stream",
     "text": [
      "Enter no for square :4\n",
      "16\n"
     ]
    }
   ],
   "source": [
    "#For Squaring\n",
    "a = input(\"Enter no for square :\")\n",
    "a = int(a)\n",
    "print(a*a)"
   ]
  },
  {
   "cell_type": "code",
   "execution_count": null,
   "id": "75cd9a3a",
   "metadata": {},
   "outputs": [],
   "source": []
  }
 ],
 "metadata": {
  "kernelspec": {
   "display_name": "Python 3 (ipykernel)",
   "language": "python",
   "name": "python3"
  },
  "language_info": {
   "codemirror_mode": {
    "name": "ipython",
    "version": 3
   },
   "file_extension": ".py",
   "mimetype": "text/x-python",
   "name": "python",
   "nbconvert_exporter": "python",
   "pygments_lexer": "ipython3",
   "version": "3.9.12"
  }
 },
 "nbformat": 4,
 "nbformat_minor": 5
}
