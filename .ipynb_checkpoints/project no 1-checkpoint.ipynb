{
 "cells": [
  {
   "cell_type": "markdown",
   "id": "6c9208a0",
   "metadata": {},
   "source": [
    "# Snack Water Gun Game"
   ]
  },
  {
   "cell_type": "code",
   "execution_count": 49,
   "id": "4baa229c",
   "metadata": {},
   "outputs": [
    {
     "name": "stdout",
     "output_type": "stream",
     "text": [
      "Computer turn : Snack(s),Water(w) or Gun(g) ?\n",
      "Player 2 turn : Snack(s),Water(w) or Gun(g) ?w\n",
      "Computer choose w\n",
      " You choose w\n",
      "The game is tie!\n"
     ]
    }
   ],
   "source": [
    "import random\n",
    "\n",
    "def gamewin(comp,you):\n",
    "    if comp==you:\n",
    "        return None\n",
    "    elif comp==\"s\":\n",
    "        if you==\"w\":\n",
    "            return False\n",
    "        elif you==\"g\":\n",
    "            return True\n",
    "    elif comp==\"w\":\n",
    "        if you==\"g\":\n",
    "            return False\n",
    "        elif you==\"s\":\n",
    "            return True\n",
    "    elif comp==\"g\":\n",
    "        if you==\"s\":\n",
    "            return False\n",
    "        elif you==\"w\":\n",
    "            return True\n",
    "    \n",
    "    \n",
    " # This create random variable\n",
    "print(\"Computer turn : Snack(s),Water(w) or Gun(g) ?\")\n",
    "rand = random.randint(1,3)\n",
    "if rand==1:\n",
    "    comp = \"s\"\n",
    "elif rand==2:\n",
    "    comp = \"w\"\n",
    "else:\n",
    "    comp = \"g\"\n",
    "    \n",
    "    \n",
    "you= input(\"Player 2 turn : Snack(s),Water(w) or Gun(g) ?\")\n",
    "a=gamewin(comp,you)\n",
    "print(f\"Computer choose {comp}\\n You choose {you}\")\n",
    "\n",
    "if a ==None:\n",
    "    print(\"The game is tie!\")\n",
    "elif a:\n",
    "    print(\"You win ... !\")\n",
    "else:\n",
    "    print(\"you lose ... !\")\n"
   ]
  },
  {
   "cell_type": "markdown",
   "id": "f56a283d",
   "metadata": {},
   "source": [
    "## Rock Paper and SeaSor Game"
   ]
  },
  {
   "cell_type": "code",
   "execution_count": 51,
   "id": "3de11e53",
   "metadata": {},
   "outputs": [
    {
     "name": "stdout",
     "output_type": "stream",
     "text": [
      "This is computer turn : Rock(r),Seasor(s) or Paper(p)\n",
      "Please choose : Seasor(s),Rock(r) or Paper(p) ?r\n",
      " computer choose p\n",
      " user choose r\n",
      "The game is win by you ! \n"
     ]
    }
   ],
   "source": [
    "\n",
    "\n",
    "def game(com,user):\n",
    "    if com==user:\n",
    "        com = \"Tie\"\n",
    "    elif com==\"s\":\n",
    "        if user==\"r\":\n",
    "            com = \"You win\"\n",
    "        elif user ==\"p\":\n",
    "            com = \"You lose\"\n",
    "    elif com==\"r\":\n",
    "        if user==\"p\":\n",
    "            com = \"You lose\"\n",
    "        elif user==\"s\":\n",
    "            com = \"You lose\"\n",
    "    elif com==\"p\":\n",
    "        if user==\"r\":\n",
    "            com=\"You win\"\n",
    "        elif user==\"s\":\n",
    "            com = \"You win\"\n",
    "    return com        \n",
    "    \n",
    "print(\"This is computer turn : Rock(r),Seasor(s) or Paper(p)\")\n",
    "ran = random.randint(1,3)\n",
    "if ran==1:\n",
    "    com = \"s\"\n",
    "if ran==2:\n",
    "    com = \"r\"\n",
    "else:\n",
    "    com = \"p\"\n",
    "    \n",
    "user = input(\"Please choose : Seasor(s),Rock(r) or Paper(p) ?\")\n",
    "a = game(com,user)\n",
    "print(f\" computer choose {com}\\n user choose {user}\")\n",
    "if a==\"Tie\":\n",
    "    print(\"The game is tie ! \")\n",
    "if a==\"You win\":\n",
    "    print(\"The game is win by you ! \")\n",
    "else:\n",
    "    print(\"You lose this match !\")"
   ]
  },
  {
   "cell_type": "code",
   "execution_count": 43,
   "id": "76a03db4",
   "metadata": {},
   "outputs": [
    {
     "name": "stdout",
     "output_type": "stream",
     "text": [
      "1\n"
     ]
    }
   ],
   "source": [
    "print(ran)"
   ]
  },
  {
   "cell_type": "code",
   "execution_count": null,
   "id": "113be333",
   "metadata": {},
   "outputs": [],
   "source": []
  },
  {
   "cell_type": "code",
   "execution_count": null,
   "id": "4f3f3aee",
   "metadata": {},
   "outputs": [],
   "source": []
  }
 ],
 "metadata": {
  "kernelspec": {
   "display_name": "Python 3 (ipykernel)",
   "language": "python",
   "name": "python3"
  },
  "language_info": {
   "codemirror_mode": {
    "name": "ipython",
    "version": 3
   },
   "file_extension": ".py",
   "mimetype": "text/x-python",
   "name": "python",
   "nbconvert_exporter": "python",
   "pygments_lexer": "ipython3",
   "version": "3.9.12"
  }
 },
 "nbformat": 4,
 "nbformat_minor": 5
}
