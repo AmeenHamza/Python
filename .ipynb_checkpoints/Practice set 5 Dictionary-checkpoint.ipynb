{
 "cells": [
  {
   "cell_type": "code",
   "execution_count": 1,
   "id": "1108a68d",
   "metadata": {},
   "outputs": [
    {
     "name": "stdout",
     "output_type": "stream",
     "text": [
      "Options are : dict_keys(['Nikl', 'Kese ho', 'Kinna jara'])\n",
      "Enter your urdu/marwari words here :fdgkfk\n",
      "The meaning of your word is : None\n"
     ]
    }
   ],
   "source": [
    "myFDic = {\n",
    "    \"Nikl\" : \"Get out\",\n",
    "    \"Kese ho\" : \"How are you\",\n",
    "    \"Kinna jara\" : \"Where are you going\"\n",
    "}\n",
    "print(\"Options are :\", myFDic.keys())\n",
    "a = input(\"Enter your urdu/marwari words here :\")\n",
    "#print(\"The meaning of your word is :\",myFDic[a])\n",
    "print(\"The meaning of your word is :\",myFDic.get(a))\n",
    "# The above line do not show an error by get method otherwise it shoes error when user enter an incorrect key\n"
   ]
  },
  {
   "cell_type": "code",
   "execution_count": 2,
   "id": "3d2ace6c",
   "metadata": {},
   "outputs": [
    {
     "name": "stdout",
     "output_type": "stream",
     "text": [
      "Enter your first no please\n",
      "2\n",
      "Enter your second no please\n",
      "4\n",
      "Enter your third no please\n",
      "6\n",
      "Enter your fourth no please\n",
      "2\n",
      "Enter your fifth no please\n",
      "8\n",
      "Enter your sixth no please\n",
      "3\n",
      "Enter your seventh no please\n",
      "10\n",
      "Enter your eighth no please\n",
      "7\n",
      "{2, 3, 4, 6, 7, 8, 10}\n"
     ]
    }
   ],
   "source": [
    "# Question no 2\n",
    "num1 = int(input(\"Enter your first no please\\n\"))\n",
    "num2 = int(input(\"Enter your second no please\\n\"))\n",
    "num3 = int(input(\"Enter your third no please\\n\"))\n",
    "num4 = int(input(\"Enter your fourth no please\\n\"))\n",
    "num5 = int(input(\"Enter your fifth no please\\n\"))\n",
    "num6 = int(input(\"Enter your sixth no please\\n\"))\n",
    "num7 = int(input(\"Enter your seventh no please\\n\"))\n",
    "num8 = int(input(\"Enter your eighth no please\\n\"))\n",
    "a = {num1 ,num2, num3,num4,num5,num6,num7,num8}\n",
    "print(a)\n"
   ]
  },
  {
   "cell_type": "code",
   "execution_count": 2,
   "id": "74361490",
   "metadata": {},
   "outputs": [
    {
     "name": "stdout",
     "output_type": "stream",
     "text": [
      "{32, 32.1, '32'}\n",
      "3\n"
     ]
    }
   ],
   "source": [
    "a = {32,32.1,'32'}\n",
    "print(a)\n",
    "print(len(a))\n"
   ]
  },
  {
   "cell_type": "code",
   "execution_count": 3,
   "id": "b5734207",
   "metadata": {},
   "outputs": [
    {
     "name": "stdout",
     "output_type": "stream",
     "text": [
      "{32, '32'}\n"
     ]
    }
   ],
   "source": [
    "a = {32,32.0,'32'}\n",
    "print(a)\n"
   ]
  },
  {
   "cell_type": "code",
   "execution_count": 5,
   "id": "7813cd5c",
   "metadata": {},
   "outputs": [
    {
     "name": "stdout",
     "output_type": "stream",
     "text": [
      "Enter your Favourite language Ameen\n",
      "java\n",
      "Enter your Favourite language Nida\n",
      "c++\n",
      "Enter your Favourite language Faraz\n",
      "python\n",
      "Enter your Favourite language Moiz\n",
      "java\n",
      "{'Ameen': 'java', 'Nida': 'c++', 'Faraz': 'python', 'Moiz': 'java'}\n"
     ]
    }
   ],
   "source": [
    "Question no :6 \n",
    "favlang = {}\n",
    "a = input(\"Enter your Favourite language Ameen\\n\")\n",
    "b = input(\"Enter your Favourite language Nida\\n\")\n",
    "c = input(\"Enter your Favourite language Faraz\\n\")\n",
    "d = input(\"Enter your Favourite language Moiz\\n\")\n",
    "favlang['Ameen'] = a # Remaining to understand\n",
    "favlang['Nida'] = b # Remaining to understand\n",
    "favlang['Faraz'] = c # Remaining to understand\n",
    "favlang['Moiz'] = d # Remaining to understand\n",
    "print(favlang)\n",
    "\n",
    "\n"
   ]
  },
  {
   "cell_type": "code",
   "execution_count": 3,
   "id": "018ebf7c",
   "metadata": {},
   "outputs": [
    {
     "name": "stdout",
     "output_type": "stream",
     "text": [
      "{'Ameen', 4, 6, 9, (12, 34)}\n"
     ]
    }
   ],
   "source": [
    "# Question no 7\n",
    "# in set the list is not assign in set so the set is not work properly\n",
    "# in set the touple is working properly\n",
    "a = {4,6,9,'Ameen',(12,34)}\n",
    "print(a)"
   ]
  },
  {
   "cell_type": "code",
   "execution_count": null,
   "id": "a2830071",
   "metadata": {},
   "outputs": [],
   "source": []
  }
 ],
 "metadata": {
  "kernelspec": {
   "display_name": "Python 3 (ipykernel)",
   "language": "python",
   "name": "python3"
  },
  "language_info": {
   "codemirror_mode": {
    "name": "ipython",
    "version": 3
   },
   "file_extension": ".py",
   "mimetype": "text/x-python",
   "name": "python",
   "nbconvert_exporter": "python",
   "pygments_lexer": "ipython3",
   "version": "3.9.12"
  }
 },
 "nbformat": 4,
 "nbformat_minor": 5
}
