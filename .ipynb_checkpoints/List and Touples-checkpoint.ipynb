{
 "cells": [
  {
   "cell_type": "markdown",
   "id": "020a1143",
   "metadata": {},
   "source": [
    "# list"
   ]
  },
  {
   "cell_type": "code",
   "execution_count": 2,
   "id": "acc5b992",
   "metadata": {},
   "outputs": [
    {
     "name": "stdout",
     "output_type": "stream",
     "text": [
      "[1, 2, 3, 4, 5]\n",
      "2\n"
     ]
    }
   ],
   "source": [
    "a = [1,2,3,4,5]\n",
    "print(a)\n",
    "print(a[1])"
   ]
  },
  {
   "cell_type": "code",
   "execution_count": 3,
   "id": "e76c1f80",
   "metadata": {},
   "outputs": [
    {
     "name": "stdout",
     "output_type": "stream",
     "text": [
      "36\n"
     ]
    }
   ],
   "source": [
    "# List is able to change\n",
    "a[1] = 36\n",
    "print(a[1])"
   ]
  },
  {
   "cell_type": "markdown",
   "id": "bef4d13e",
   "metadata": {},
   "source": [
    "# List Slicing"
   ]
  },
  {
   "cell_type": "code",
   "execution_count": 3,
   "id": "d5a98ba1",
   "metadata": {},
   "outputs": [
    {
     "name": "stdout",
     "output_type": "stream",
     "text": [
      "[1, 2, 4, 5, 6, 9, 29, 30, 68]\n"
     ]
    }
   ],
   "source": [
    "list1 = [1,6,9,2,5,68,29,30,4]\n",
    "list1.sort()\n",
    "print(list1) # Now List in Accending order"
   ]
  },
  {
   "cell_type": "code",
   "execution_count": 4,
   "id": "a824c1e0",
   "metadata": {},
   "outputs": [
    {
     "name": "stdout",
     "output_type": "stream",
     "text": [
      "[68, 30, 29, 9, 6, 5, 4, 2, 1]\n"
     ]
    }
   ],
   "source": [
    "# Reversing the list\n",
    "list1.reverse()\n",
    "print(list1)"
   ]
  },
  {
   "cell_type": "code",
   "execution_count": 6,
   "id": "e1902c51",
   "metadata": {},
   "outputs": [
    {
     "name": "stdout",
     "output_type": "stream",
     "text": [
      "[68, 30, 29, 9, 6, 5, 4, 2, 1, 36]\n"
     ]
    }
   ],
   "source": [
    "# Append Method\n",
    "# Add something new in the end of list\n",
    "list1.append(36)\n",
    "print(list1)"
   ]
  },
  {
   "cell_type": "code",
   "execution_count": 7,
   "id": "e0ebde19",
   "metadata": {},
   "outputs": [
    {
     "name": "stdout",
     "output_type": "stream",
     "text": [
      "[68, 30, 16, 29, 9, 6, 5, 4, 2, 1, 36]\n"
     ]
    }
   ],
   "source": [
    "# Insert Method\n",
    "# Add something were you initialize\n",
    "list1.insert(2,16)\n",
    "print(list1)"
   ]
  },
  {
   "cell_type": "code",
   "execution_count": 9,
   "id": "74a7e2ee",
   "metadata": {},
   "outputs": [
    {
     "name": "stdout",
     "output_type": "stream",
     "text": [
      "[68, 30, 9, 6, 5, 4, 2, 1, 36]\n"
     ]
    }
   ],
   "source": [
    "# pop Method\n",
    "# Delete the element from list at index\n",
    "list1.pop(2)\n",
    "print(list1)"
   ]
  },
  {
   "cell_type": "code",
   "execution_count": 10,
   "id": "ffa07742",
   "metadata": {},
   "outputs": [
    {
     "name": "stdout",
     "output_type": "stream",
     "text": [
      "[68, 30, 9, 6, 5, 4, 2, 1]\n"
     ]
    }
   ],
   "source": [
    "# Remove function\n",
    "# Remove any number from list\n",
    "list1.remove(36)\n",
    "print(list1)"
   ]
  },
  {
   "cell_type": "markdown",
   "id": "b1031f45",
   "metadata": {},
   "source": [
    "# Tuples"
   ]
  },
  {
   "cell_type": "code",
   "execution_count": 11,
   "id": "ebb83d73",
   "metadata": {},
   "outputs": [
    {
     "name": "stdout",
     "output_type": "stream",
     "text": [
      "(1, 2, 3, 5)\n",
      "2\n"
     ]
    }
   ],
   "source": [
    "# Tuple is created by ()\n",
    "# The value of tuple is not change able\n",
    "# The value of tuple always > 1 otherwise its throw error\n",
    "t = (1,2,3,5)\n",
    "print(t)\n",
    "print(t[1])"
   ]
  },
  {
   "cell_type": "code",
   "execution_count": null,
   "id": "67822ae9",
   "metadata": {},
   "outputs": [],
   "source": []
  }
 ],
 "metadata": {
  "kernelspec": {
   "display_name": "Python 3 (ipykernel)",
   "language": "python",
   "name": "python3"
  },
  "language_info": {
   "codemirror_mode": {
    "name": "ipython",
    "version": 3
   },
   "file_extension": ".py",
   "mimetype": "text/x-python",
   "name": "python",
   "nbconvert_exporter": "python",
   "pygments_lexer": "ipython3",
   "version": "3.9.12"
  }
 },
 "nbformat": 4,
 "nbformat_minor": 5
}
