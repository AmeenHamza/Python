{
 "cells": [
  {
   "cell_type": "markdown",
   "id": "f028bf98",
   "metadata": {},
   "source": [
    "# OOPs"
   ]
  },
  {
   "cell_type": "code",
   "execution_count": 2,
   "id": "24812d08",
   "metadata": {},
   "outputs": [
    {
     "name": "stdout",
     "output_type": "stream",
     "text": [
      "GOOGle\n",
      "GOOGle\n"
     ]
    }
   ],
   "source": [
    "# Class attributes \n",
    "class Employee:\n",
    "    company = \"GOOGle\" # This is class variable and this is only change with class name\n",
    "     \n",
    "harry = Employee()\n",
    "ameen = Employee()\n",
    "print(harry.company)\n",
    "print(ameen.company)"
   ]
  },
  {
   "cell_type": "code",
   "execution_count": 3,
   "id": "d0b97da3",
   "metadata": {},
   "outputs": [
    {
     "name": "stdout",
     "output_type": "stream",
     "text": [
      "Youtube\n",
      "Youtube\n"
     ]
    }
   ],
   "source": [
    "Employee.company = \"Youtube\"\n",
    "print(harry.company)\n",
    "print(ameen.company)"
   ]
  },
  {
   "cell_type": "code",
   "execution_count": null,
   "id": "f3e97517",
   "metadata": {},
   "outputs": [],
   "source": []
  }
 ],
 "metadata": {
  "kernelspec": {
   "display_name": "Python 3 (ipykernel)",
   "language": "python",
   "name": "python3"
  },
  "language_info": {
   "codemirror_mode": {
    "name": "ipython",
    "version": 3
   },
   "file_extension": ".py",
   "mimetype": "text/x-python",
   "name": "python",
   "nbconvert_exporter": "python",
   "pygments_lexer": "ipython3",
   "version": "3.9.12"
  }
 },
 "nbformat": 4,
 "nbformat_minor": 5
}
