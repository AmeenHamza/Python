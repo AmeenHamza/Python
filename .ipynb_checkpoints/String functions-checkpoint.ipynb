{
 "cells": [
  {
   "cell_type": "code",
   "execution_count": 1,
   "id": "bd9dba2b",
   "metadata": {},
   "outputs": [
    {
     "name": "stdout",
     "output_type": "stream",
     "text": [
      "106\n"
     ]
    }
   ],
   "source": [
    "story = \"Once upon a time in karachi the weather forcasters predict the rain in karachi but the rain is not comiong\"\n",
    "print(len(story))"
   ]
  },
  {
   "cell_type": "code",
   "execution_count": 2,
   "id": "1f2c48d6",
   "metadata": {},
   "outputs": [
    {
     "name": "stdout",
     "output_type": "stream",
     "text": [
      "True\n"
     ]
    }
   ],
   "source": [
    "# Ends with\n",
    "print(story.endswith(\"comiong\"))"
   ]
  },
  {
   "cell_type": "code",
   "execution_count": 5,
   "id": "deee8440",
   "metadata": {},
   "outputs": [
    {
     "name": "stdout",
     "output_type": "stream",
     "text": [
      "9\n",
      "4\n"
     ]
    }
   ],
   "source": [
    "# Counting Variables\n",
    "print(story.count(\"t\"))\n",
    "print(story.count(\"the\"))\n"
   ]
  },
  {
   "cell_type": "code",
   "execution_count": 4,
   "id": "76e14171",
   "metadata": {},
   "outputs": [],
   "source": [
    "# Remaining in notes"
   ]
  },
  {
   "cell_type": "markdown",
   "id": "ecd151ef",
   "metadata": {},
   "source": [
    "# Escape Sequence char"
   ]
  },
  {
   "cell_type": "code",
   "execution_count": 6,
   "id": "85ff4a0a",
   "metadata": {},
   "outputs": [
    {
     "name": "stdout",
     "output_type": "stream",
     "text": [
      "I'm not good \n",
      " good person\n"
     ]
    }
   ],
   "source": [
    "story = \"I'm not good \\n good person\"\n",
    "print(story)"
   ]
  },
  {
   "cell_type": "markdown",
   "id": "248efed0",
   "metadata": {},
   "source": [
    "# Practice set"
   ]
  },
  {
   "cell_type": "code",
   "execution_count": 7,
   "id": "8b7d6107",
   "metadata": {},
   "outputs": [
    {
     "name": "stdout",
     "output_type": "stream",
     "text": [
      "Enter your name :Ameen Hamza\n",
      "Enter date :23-oct-22\n",
      " Dear Ameen Hamza ,\n",
      "You are selected from me !\n",
      "\n",
      "let's join now !\n",
      "Thanks!\n",
      "23-oct-22\n",
      " \n",
      "\n"
     ]
    }
   ],
   "source": [
    "letter = ''' Dear <|Name|> ,\n",
    "You are selected from me !\n",
    "\n",
    "let's join now !\n",
    "Thanks!\n",
    "<|Date|>\n",
    " \n",
    "'''\n",
    "name = input(\"Enter your name :\")\n",
    "date = input(\"Enter date :\")\n",
    "letter = letter.replace(\"<|Name|>\",name)\n",
    "letter = letter.replace(\"<|Date|>\",date)\n",
    "print(letter)\n"
   ]
  },
  {
   "cell_type": "code",
   "execution_count": null,
   "id": "21ae053c",
   "metadata": {},
   "outputs": [],
   "source": []
  }
 ],
 "metadata": {
  "kernelspec": {
   "display_name": "Python 3 (ipykernel)",
   "language": "python",
   "name": "python3"
  },
  "language_info": {
   "codemirror_mode": {
    "name": "ipython",
    "version": 3
   },
   "file_extension": ".py",
   "mimetype": "text/x-python",
   "name": "python",
   "nbconvert_exporter": "python",
   "pygments_lexer": "ipython3",
   "version": "3.9.12"
  }
 },
 "nbformat": 4,
 "nbformat_minor": 5
}
