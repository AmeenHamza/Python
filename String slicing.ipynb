{
 "cells": [
  {
   "cell_type": "markdown",
   "id": "8bcc2df6",
   "metadata": {},
   "source": [
    "\n",
    "# String Slicing"
   ]
  },
  {
   "cell_type": "code",
   "execution_count": 3,
   "id": "e23499fb",
   "metadata": {},
   "outputs": [
    {
     "name": "stdout",
     "output_type": "stream",
     "text": [
      "n\n"
     ]
    }
   ],
   "source": [
    "name= 'Solong'\n",
    "print(name[4])"
   ]
  },
  {
   "cell_type": "code",
   "execution_count": 6,
   "id": "b20c4dfe",
   "metadata": {},
   "outputs": [
    {
     "name": "stdout",
     "output_type": "stream",
     "text": [
      "Ameen\n"
     ]
    }
   ],
   "source": [
    "print(name[0:5])"
   ]
  },
  {
   "cell_type": "code",
   "execution_count": 17,
   "id": "1b040809",
   "metadata": {},
   "outputs": [
    {
     "name": "stdout",
     "output_type": "stream",
     "text": [
      "Amee\n",
      "meen\n",
      "mee\n"
     ]
    }
   ],
   "source": [
    "print(name[:4])#is same as [0:4]\n",
    "print(name[1:]) # is same as [1:4]\n",
    "print(name[-4:-1])"
   ]
  },
  {
   "cell_type": "markdown",
   "id": "c4ff6478",
   "metadata": {},
   "source": [
    "# Slicing with skip value"
   ]
  },
  {
   "cell_type": "code",
   "execution_count": 20,
   "id": "4769fffd",
   "metadata": {},
   "outputs": [
    {
     "name": "stdout",
     "output_type": "stream",
     "text": [
      "olo\n"
     ]
    }
   ],
   "source": [
    "name1 = 'Solong'\n",
    "print(name1[1:4:1])"
   ]
  },
  {
   "cell_type": "code",
   "execution_count": null,
   "id": "12c8d248",
   "metadata": {},
   "outputs": [],
   "source": []
  }
 ],
 "metadata": {
  "kernelspec": {
   "display_name": "Python 3 (ipykernel)",
   "language": "python",
   "name": "python3"
  },
  "language_info": {
   "codemirror_mode": {
    "name": "ipython",
    "version": 3
   },
   "file_extension": ".py",
   "mimetype": "text/x-python",
   "name": "python",
   "nbconvert_exporter": "python",
   "pygments_lexer": "ipython3",
   "version": "3.9.12"
  }
 },
 "nbformat": 4,
 "nbformat_minor": 5
}
