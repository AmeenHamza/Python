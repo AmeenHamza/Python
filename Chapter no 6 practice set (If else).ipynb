{
 "cells": [
  {
   "cell_type": "code",
   "execution_count": 6,
   "id": "aeb87fa7",
   "metadata": {},
   "outputs": [
    {
     "name": "stdout",
     "output_type": "stream",
     "text": [
      "Please enter a number :2\n",
      "Please enter a number :3\n",
      "Please enter a number :4\n",
      "Please enter a number :7\n",
      "7\n"
     ]
    }
   ],
   "source": [
    "# Question no 1\n",
    "a = int(input(\"Please enter a number :\"))\n",
    "b = int(input(\"Please enter a number :\"))\n",
    "c = int(input(\"Please enter a number :\"))\n",
    "d = int(input(\"Please enter a number :\"))\n",
    "greater = 0\n",
    "if(a>b):\n",
    "    greater = a\n",
    "    print(greater)\n",
    "elif(b>c):\n",
    "    greater = b\n",
    "    print(greater)\n",
    "elif(c>d):\n",
    "    greater = c\n",
    "    print(greater)\n",
    "else:   \n",
    "    greater = d\n",
    "    print(greater)"
   ]
  },
  {
   "cell_type": "code",
   "execution_count": 2,
   "id": "ab516c14",
   "metadata": {},
   "outputs": [
    {
     "name": "stdout",
     "output_type": "stream",
     "text": [
      "Please enter a number1 :45\n",
      "Please enter a number2 :12\n",
      "Please enter a number3 :34\n",
      "Please enter a number4 :16\n",
      "45 is greatest\n"
     ]
    }
   ],
   "source": [
    "# Second method\n",
    "# (Pass) is a function to pass that is do something on working place\n",
    "num1 = int(input(\"Please enter a number1 :\"))\n",
    "num2 = int(input(\"Please enter a number2 :\"))\n",
    "num3 = int(input(\"Please enter a number3 :\"))\n",
    "num4 = int(input(\"Please enter a number4 :\"))\n",
    "if(num1>num4):\n",
    "    f1 = num1\n",
    "else:\n",
    "    f1 = num4\n",
    "if(num2>num3):\n",
    "    f2 = num2\n",
    "else:\n",
    "    f2 = num3\n",
    "if(f1>f2):\n",
    "    print(str(f1) +\" is greatest\")\n",
    "else:\n",
    "    print(str(f2) +\" is greatest\")\n",
    "    "
   ]
  },
  {
   "cell_type": "code",
   "execution_count": null,
   "id": "fbe7cf0c",
   "metadata": {},
   "outputs": [],
   "source": [
    "# Question no 2\n",
    "sub1 = int(input(\"Please enter a marks of Maths\\n\"))\n",
    "sub2 = int(input(\"Please enter a marks of Physics\\n\"))\n",
    "sub3 = int(input(\"Please enter a marks of Chemistry\\n\"))\n",
    "marks = sub1 + sub2 + sub3\n",
    "per = (marks/300)*100\n",
    "if(sub1>=33 and sub2>=33 and sub3>=33 and per>=40):\n",
    "    print(\"You become Successful !\")\n",
    "else:\n",
    "    print(\"Oops ! Try again\")"
   ]
  },
  {
   "cell_type": "code",
   "execution_count": 7,
   "id": "80ecfaf8",
   "metadata": {},
   "outputs": [],
   "source": [
    "# Second method\n",
    "sub1 = int(input(\"Please enter a marks of Maths\\n\"))\n",
    "sub2 = int(input(\"Please enter a marks of Physics\\n\"))\n",
    "sub3 = int(input(\"Please enter a marks of Chemistry\\n\"))\n",
    "if(sub1<33 or sub2<33 or sub3<33):\n",
    "    print(\"you have fail because you have less than 33% marks in each of the subject \")\n",
    "elif(sub1+sub2+sub3)/3 <40 :\n",
    "    print(\"you have fail due to total percentage less than 40\")\n",
    "else:\n",
    "    (\"Congratulations ! You have passed :\")"
   ]
  },
  {
   "cell_type": "code",
   "execution_count": 7,
   "id": "20de286c",
   "metadata": {},
   "outputs": [
    {
     "name": "stdout",
     "output_type": "stream",
     "text": [
      "Enter the textyou make a lot of money\n",
      "This text is spam\n"
     ]
    }
   ],
   "source": [
    "text = input(\"Enter the text\")\n",
    "if(\"make a lot of money\" in text):\n",
    "    spam = True\n",
    "elif(\"buy now in text\"):\n",
    "    spam = True\n",
    "elif(\"click this in text\"):\n",
    "    spam = True\n",
    "elif(\"subscribe this in text\"):\n",
    "    spam = True\n",
    "elif(\"hy in text\"):\n",
    "    spam = True\n",
    "else:\n",
    "    spam = False\n",
    "if(spam):\n",
    "    print(\"This text is spam\")\n",
    "else:\n",
    "    print(\"This text is not spam\")"
   ]
  },
  {
   "cell_type": "code",
   "execution_count": null,
   "id": "b42c2637",
   "metadata": {},
   "outputs": [],
   "source": []
  }
 ],
 "metadata": {
  "kernelspec": {
   "display_name": "Python 3 (ipykernel)",
   "language": "python",
   "name": "python3"
  },
  "language_info": {
   "codemirror_mode": {
    "name": "ipython",
    "version": 3
   },
   "file_extension": ".py",
   "mimetype": "text/x-python",
   "name": "python",
   "nbconvert_exporter": "python",
   "pygments_lexer": "ipython3",
   "version": "3.9.12"
  }
 },
 "nbformat": 4,
 "nbformat_minor": 5
}
