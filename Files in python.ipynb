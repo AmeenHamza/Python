{
 "cells": [
  {
   "cell_type": "markdown",
   "id": "8e82ae22",
   "metadata": {},
   "source": [
    "## Read funnction is for read all the data in file"
   ]
  },
  {
   "cell_type": "code",
   "execution_count": 39,
   "id": "ccdbeeb6",
   "metadata": {},
   "outputs": [
    {
     "ename": "FileNotFoundError",
     "evalue": "[Errno 2] No such file or directory: 'ifhaam.pptx'",
     "output_type": "error",
     "traceback": [
      "\u001b[1;31m---------------------------------------------------------------------------\u001b[0m",
      "\u001b[1;31mFileNotFoundError\u001b[0m                         Traceback (most recent call last)",
      "Input \u001b[1;32mIn [39]\u001b[0m, in \u001b[0;36m<cell line: 1>\u001b[1;34m()\u001b[0m\n\u001b[1;32m----> 1\u001b[0m f\u001b[38;5;241m=\u001b[39m \u001b[38;5;28;43mopen\u001b[39;49m\u001b[43m(\u001b[49m\u001b[38;5;124;43m'\u001b[39;49m\u001b[38;5;124;43mifhaam.pptx\u001b[39;49m\u001b[38;5;124;43m'\u001b[39;49m\u001b[43m,\u001b[49m\u001b[38;5;124;43m\"\u001b[39;49m\u001b[38;5;124;43mr\u001b[39;49m\u001b[38;5;124;43m\"\u001b[39;49m\u001b[43m)\u001b[49m\n\u001b[0;32m      2\u001b[0m \u001b[38;5;66;03m#data = f.read(4) # apni marzi se bhi bolsakte h kitne characters read karne h\u001b[39;00m\n\u001b[0;32m      3\u001b[0m data \u001b[38;5;241m=\u001b[39m f\u001b[38;5;241m.\u001b[39mread()\n",
      "\u001b[1;31mFileNotFoundError\u001b[0m: [Errno 2] No such file or directory: 'ifhaam.pptx'"
     ]
    }
   ],
   "source": [
    "f= open('file.txt')\n",
    "#data = f.read(4) # apni marzi se bhi bolsakte h kitne characters read karne h\n",
    "#data = f.read()\n",
    "print(data)\n",
    "f.close()\n",
    "# IS mein bhi chal gaya\n",
    "\n"
   ]
  },
  {
   "cell_type": "markdown",
   "id": "73d62d50",
   "metadata": {},
   "source": [
    "# Others functions in python"
   ]
  },
  {
   "cell_type": "markdown",
   "id": "a924d155",
   "metadata": {},
   "source": [
    "First is readline function"
   ]
  },
  {
   "cell_type": "code",
   "execution_count": 8,
   "id": "d6f80a20",
   "metadata": {},
   "outputs": [
    {
     "name": "stdout",
     "output_type": "stream",
     "text": [
      "Whar is this \n",
      "\n",
      "For updating file \n"
     ]
    }
   ],
   "source": [
    "# This fuction only reads one line at the time\n",
    "o = open(\"file1.txt\")\n",
    "forread = o.readline() # Ek dafa kara to pehli line mili\n",
    "print(forread)\n",
    "forread = o.readline() # dusri dafa dusri line read karega\n",
    "print(forread)\n",
    "o.close()"
   ]
  },
  {
   "cell_type": "markdown",
   "id": "90f539e1",
   "metadata": {},
   "source": [
    "# >> Modes for opening a file"
   ]
  },
  {
   "cell_type": "raw",
   "id": "df7fa0b2",
   "metadata": {},
   "source": [
    "1- r - open for reading\n",
    "2 - w - open for writing\n",
    "3 - a - open for appending\n",
    "4 - + - open for updating"
   ]
  },
  {
   "cell_type": "markdown",
   "id": "a6754945",
   "metadata": {},
   "source": [
    "## >> Writing python files"
   ]
  },
  {
   "cell_type": "code",
   "execution_count": 11,
   "id": "056814b7",
   "metadata": {},
   "outputs": [],
   "source": [
    "# Mene iski file banai bhi nhi thi khud hi ban gai\n",
    "f = open(\"another.txt\",\"w\")\n",
    "f.write(\"This is for writing\")\n",
    "f.close()"
   ]
  },
  {
   "cell_type": "markdown",
   "id": "187cab74",
   "metadata": {},
   "source": [
    "## >> Appending python files"
   ]
  },
  {
   "cell_type": "code",
   "execution_count": 16,
   "id": "a5d632aa",
   "metadata": {},
   "outputs": [],
   "source": [
    "f = open(\"another.txt\",\"a\")\n",
    "f.write(\" The (a) is for appending\")\n",
    "f.close()"
   ]
  },
  {
   "cell_type": "code",
   "execution_count": 19,
   "id": "48d204bb",
   "metadata": {},
   "outputs": [],
   "source": [
    "f = open(\"self.txt\",\"w\")\n",
    "f.write(\"Ye aese chalta h\")\n",
    "f.close()"
   ]
  },
  {
   "cell_type": "raw",
   "id": "6aab93ee",
   "metadata": {},
   "source": [
    "After appending something and then return to write mode all the data has lost"
   ]
  },
  {
   "cell_type": "markdown",
   "id": "d8ec0ef3",
   "metadata": {},
   "source": [
    "# ~ With function"
   ]
  },
  {
   "cell_type": "code",
   "execution_count": 20,
   "id": "d3416e3e",
   "metadata": {},
   "outputs": [],
   "source": [
    "# This is the best way to open and close file automatically (e.g,(without f.close()))\n",
    "with open(\"self.txt\",\"w\") as f:\n",
    "    f.write(\"f ki jaga kuch bhi lesakte h\")"
   ]
  },
  {
   "cell_type": "code",
   "execution_count": 31,
   "id": "21eb6b1a",
   "metadata": {},
   "outputs": [
    {
     "name": "stdout",
     "output_type": "stream",
     "text": [
      "f ki jaga kuch bhi lesakte h\n"
     ]
    }
   ],
   "source": [
    "with open(\"self.txt\",\"r\") as f:\n",
    "    a = f.read()\n",
    "print(a)"
   ]
  },
  {
   "cell_type": "code",
   "execution_count": null,
   "id": "4826f1ec",
   "metadata": {},
   "outputs": [],
   "source": []
  }
 ],
 "metadata": {
  "kernelspec": {
   "display_name": "Python 3 (ipykernel)",
   "language": "python",
   "name": "python3"
  },
  "language_info": {
   "codemirror_mode": {
    "name": "ipython",
    "version": 3
   },
   "file_extension": ".py",
   "mimetype": "text/x-python",
   "name": "python",
   "nbconvert_exporter": "python",
   "pygments_lexer": "ipython3",
   "version": "3.9.12"
  }
 },
 "nbformat": 4,
 "nbformat_minor": 5
}
